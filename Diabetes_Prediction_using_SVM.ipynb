{
  "nbformat": 4,
  "nbformat_minor": 0,
  "metadata": {
    "colab": {
      "provenance": [],
      "collapsed_sections": [],
      "private_outputs": true
    },
    "kernelspec": {
      "name": "python3",
      "display_name": "Python 3"
    },
    "language_info": {
      "name": "python"
    },
    "accelerator": "GPU"
  },
  "cells": [
    {
      "cell_type": "code",
      "source": [
        "import numpy as np\n",
        "import pandas as pd\n",
        "from sklearn.preprocessing import StandardScaler # standardise the data to a common range\n",
        "from sklearn.model_selection import train_test_split\n",
        "from sklearn import svm\n",
        "from sklearn.metrics import accuracy_score"
      ],
      "metadata": {
        "id": "pY94iuhWPaoW"
      },
      "execution_count": null,
      "outputs": []
    },
    {
      "cell_type": "markdown",
      "source": [
        "#**1. Collect Data, and Data Analysis**"
      ],
      "metadata": {
        "id": "9sBebDM3QfZw"
      }
    },
    {
      "cell_type": "code",
      "source": [
        "data = pd.read_csv('/content/diabetes.csv')"
      ],
      "metadata": {
        "id": "yJUGx0odPf-g"
      },
      "execution_count": null,
      "outputs": []
    },
    {
      "cell_type": "code",
      "source": [
        "data.head()"
      ],
      "metadata": {
        "id": "yUgzi4gpqSzb"
      },
      "execution_count": null,
      "outputs": []
    },
    {
      "cell_type": "markdown",
      "source": [
        "**Feature Variables:**\n",
        "- Pregnancy\n",
        "- Glucose\n",
        "- Blood Pressure\n",
        "- Skin Thickness\n",
        "- Insulin\n",
        "- BMI\n",
        "- Diabetes Pedigree Function\t\n",
        "- Age"
      ],
      "metadata": {
        "id": "5QDb5uEGpmqB"
      }
    },
    {
      "cell_type": "code",
      "source": [
        "data.duplicated()"
      ],
      "metadata": {
        "id": "nLyBlvvgpjYm"
      },
      "execution_count": null,
      "outputs": []
    },
    {
      "cell_type": "code",
      "source": [
        "data.duplicated().sum()"
      ],
      "metadata": {
        "id": "5pqhKL16qqPJ"
      },
      "execution_count": null,
      "outputs": []
    },
    {
      "cell_type": "code",
      "source": [
        "data.describe()"
      ],
      "metadata": {
        "id": "x3otC2tfqzUu"
      },
      "execution_count": null,
      "outputs": []
    },
    {
      "cell_type": "code",
      "source": [
        "data.shape"
      ],
      "metadata": {
        "id": "mDp8tL4dq6MH"
      },
      "execution_count": null,
      "outputs": []
    },
    {
      "cell_type": "code",
      "source": [
        "data['Outcome'].value_counts()"
      ],
      "metadata": {
        "id": "Ee_xDy-6s7ec"
      },
      "execution_count": null,
      "outputs": []
    },
    {
      "cell_type": "code",
      "source": [
        "round(((data['Outcome'].value_counts())/768) *100, 2)"
      ],
      "metadata": {
        "id": "GEKUuSukti7V"
      },
      "execution_count": null,
      "outputs": []
    },
    {
      "cell_type": "markdown",
      "source": [
        "**Target Variable:**\n",
        "- 1: diabetic\n",
        "- 0: non-diabetic"
      ],
      "metadata": {
        "id": "POoKmrxPu5wl"
      }
    },
    {
      "cell_type": "code",
      "source": [
        "data.groupby('Outcome').mean()"
      ],
      "metadata": {
        "id": "gFVVeP0Kt2iR"
      },
      "execution_count": null,
      "outputs": []
    },
    {
      "cell_type": "code",
      "source": [
        "# seperate data and outcome\n",
        "\n",
        "X = data.drop(columns = 'Outcome', axis = 1) # axis = 1 as I am dropping a column\n",
        "Y = data['Outcome']"
      ],
      "metadata": {
        "id": "4utGUoWfvP2I"
      },
      "execution_count": null,
      "outputs": []
    },
    {
      "cell_type": "code",
      "source": [
        "print(X)"
      ],
      "metadata": {
        "id": "I-gN0eHOJf06"
      },
      "execution_count": null,
      "outputs": []
    },
    {
      "cell_type": "code",
      "source": [
        "X"
      ],
      "metadata": {
        "id": "cD24Jjs-Jkj3"
      },
      "execution_count": null,
      "outputs": []
    },
    {
      "cell_type": "code",
      "source": [
        "from matplotlib import pyplot as plt\n",
        "import seaborn as sns\n",
        "\n",
        "x=data['Glucose']\n",
        "y=data['Outcome']\n",
        "\n",
        "plt.scatter(x, y)"
      ],
      "metadata": {
        "id": "eRe-3wexyPVy"
      },
      "execution_count": null,
      "outputs": []
    },
    {
      "cell_type": "code",
      "source": [
        "x=data['Insulin']\n",
        "y=data['Outcome']\n",
        "\n",
        "plt.scatter(x, y,)"
      ],
      "metadata": {
        "id": "8Bzorp3sFu_f"
      },
      "execution_count": null,
      "outputs": []
    },
    {
      "cell_type": "code",
      "source": [
        "x=data['BloodPressure']\n",
        "y=data['Outcome']\n",
        "\n",
        "plt.scatter(x, y,)"
      ],
      "metadata": {
        "id": "hp_sDID3IJSr"
      },
      "execution_count": null,
      "outputs": []
    },
    {
      "cell_type": "markdown",
      "source": [
        "#**Data Standardization**"
      ],
      "metadata": {
        "id": "Pa5hRsXScwUU"
      }
    },
    {
      "cell_type": "code",
      "source": [
        "scaler = StandardScaler()"
      ],
      "metadata": {
        "id": "IlwejsqYIafy"
      },
      "execution_count": null,
      "outputs": []
    },
    {
      "cell_type": "code",
      "source": [
        "stdata = scaler.fit_transform(X)\n",
        "stdata"
      ],
      "metadata": {
        "id": "XtlJlNEvdMvd"
      },
      "execution_count": null,
      "outputs": []
    },
    {
      "cell_type": "markdown",
      "source": [
        "#**Data Training**"
      ],
      "metadata": {
        "id": "HqqeGxQDep8l"
      }
    },
    {
      "cell_type": "code",
      "source": [
        "x_train, x_test, y_train, y_test = train_test_split(stdata, Y, train_size = 0.8, random_state = 2, stratify = Y)"
      ],
      "metadata": {
        "id": "JB-GpAL4dP1D"
      },
      "execution_count": null,
      "outputs": []
    },
    {
      "cell_type": "code",
      "source": [
        "print(X.shape, x_train.shape, x_test.shape)"
      ],
      "metadata": {
        "id": "PnkfvbYxfFTm"
      },
      "execution_count": null,
      "outputs": []
    },
    {
      "cell_type": "markdown",
      "source": [
        "#**model Training**"
      ],
      "metadata": {
        "id": "lGVrsgHBgdV1"
      }
    },
    {
      "cell_type": "code",
      "source": [
        "clf = svm.SVC(kernel = 'linear')"
      ],
      "metadata": {
        "id": "Epgwy9uTgceQ"
      },
      "execution_count": null,
      "outputs": []
    },
    {
      "cell_type": "code",
      "source": [
        "clf.fit(x_train, y_train)"
      ],
      "metadata": {
        "id": "K_yFq1K9g3fo"
      },
      "execution_count": null,
      "outputs": []
    },
    {
      "cell_type": "code",
      "source": [
        "def scatter(ax,axis,name,title):\n",
        "  sns.countplot(name,data=data,ax=ax[axis[0]][axis[1]])\n",
        "  ax[axis[0],axis[1]].set_title(title)\n",
        "\n",
        "f,ax=plt.subplots(4,2,figsize=(20,15))\n",
        "plt.suptitle(\"Scatter plots of features\")\n",
        "\n",
        "features = (((0,0),\"Pregnancies\",\"Pregnancy chart feature\"),((0,1),\"Glucose\",\"Glucose chart feature\"),((1,0),\"BloodPressure\",\"BloodPressure chart feature\"),((1,1),\"SkinThickness\",\"SkinThickness chart feature\")\n",
        ",((2,0),\"Insulin\",\"Insulin chart feature\"),((2,1),\"BMI\",\"BMI chart feature\"),((3,0),\"DiabetesPedigreeFunction\",\"DiabetesPedigreeFunction chart feature\"),((3,1),\"Age\",\"Age\" \"chart feature\"))\n",
        "\n",
        "for axis, name, title in features:\n",
        "  scatter(ax,axis,name,title)"
      ],
      "metadata": {
        "id": "pMggx4ZMaoAk"
      },
      "execution_count": null,
      "outputs": []
    },
    {
      "cell_type": "markdown",
      "source": [
        "#**Model Evaluation**"
      ],
      "metadata": {
        "id": "4Lj6sX-mkqNe"
      }
    },
    {
      "cell_type": "code",
      "source": [
        "X_pred = clf.predict(x_train)"
      ],
      "metadata": {
        "id": "iqUA3GGrkzRY"
      },
      "execution_count": null,
      "outputs": []
    },
    {
      "cell_type": "code",
      "source": [
        "acc = accuracy_score(X_pred, y_train)\n",
        "acc"
      ],
      "metadata": {
        "id": "ITZda_E1h7GT"
      },
      "execution_count": null,
      "outputs": []
    },
    {
      "cell_type": "code",
      "source": [
        "test_pred = clf.predict(x_test)\n",
        "acc2 = accuracy_score(test_pred, y_test)\n",
        "acc2"
      ],
      "metadata": {
        "id": "IXEAmO_qlOmq"
      },
      "execution_count": null,
      "outputs": []
    },
    {
      "cell_type": "markdown",
      "source": [
        "Accuracy is not tha bad considering the small amount of data"
      ],
      "metadata": {
        "id": "Rp_AwEMEmWGi"
      }
    },
    {
      "cell_type": "markdown",
      "source": [
        "#**Predictor**"
      ],
      "metadata": {
        "id": "eI7w2fBAZdzO"
      }
    },
    {
      "cell_type": "code",
      "source": [
        "input_data = (5,166,72,19,175,25.8,0.587,51)\n",
        "\n",
        "# changing the input_data to numpy array\n",
        "input_data_as_numpy_array = np.asarray(input_data)\n",
        "\n",
        "# reshape the array as we are predicting for one instance\n",
        "input_data_reshaped = input_data_as_numpy_array.reshape(1,-1)\n",
        "\n",
        "# standardize the input data\n",
        "std_data = scaler.transform(input_data_reshaped)\n",
        "print(std_data)\n",
        "\n",
        "prediction = clf.predict(std_data)\n",
        "print(prediction)\n",
        "\n",
        "if (prediction[0] == 0):\n",
        "  print('The person is not diabetic')\n",
        "else:\n",
        "  print('The person is diabetic')"
      ],
      "metadata": {
        "id": "e9cLVgOPlugj"
      },
      "execution_count": null,
      "outputs": []
    }
  ]
}